{
  "nbformat": 4,
  "nbformat_minor": 0,
  "metadata": {
    "colab": {
      "name": "NASA Julho 95.ipynb",
      "provenance": [],
      "collapsed_sections": [],
      "include_colab_link": true
    },
    "kernelspec": {
      "name": "python3",
      "display_name": "Python 3"
    }
  },
  "cells": [
    {
      "cell_type": "markdown",
      "metadata": {
        "id": "view-in-github",
        "colab_type": "text"
      },
      "source": [
        "<a href=\"https://colab.research.google.com/github/elbergyn/python/blob/master/NASA_Julho_95.ipynb\" target=\"_parent\"><img src=\"https://colab.research.google.com/assets/colab-badge.svg\" alt=\"Open In Colab\"/></a>"
      ]
    },
    {
      "cell_type": "code",
      "metadata": {
        "id": "GfHE1MvS4HiH",
        "colab_type": "code",
        "colab": {}
      },
      "source": [
        "!apt-get install openjdk-8-jdk-headless -qq > /dev/null\n",
        "import os\n",
        "os.environ[\"JAVA_HOME\"] = \"/usr/lib/jvm/java-8-openjdk-amd64\"\n",
        "!update-alternatives --set java /usr/lib/jvm/java-8-openjdk-amd64/jre/bin/java\n",
        "!java -version\n"
      ],
      "execution_count": 0,
      "outputs": []
    },
    {
      "cell_type": "code",
      "metadata": {
        "id": "UwPZ_VB7pr6I",
        "colab_type": "code",
        "colab": {}
      },
      "source": [
        "! pip install pyspark"
      ],
      "execution_count": 0,
      "outputs": []
    },
    {
      "cell_type": "code",
      "metadata": {
        "id": "rPvd2CjhmRMZ",
        "colab_type": "code",
        "colab": {}
      },
      "source": [
        "from pyspark import SparkContext\n",
        "from operator import add"
      ],
      "execution_count": 0,
      "outputs": []
    },
    {
      "cell_type": "code",
      "metadata": {
        "id": "9cAWVPagEfc1",
        "colab_type": "code",
        "colab": {}
      },
      "source": [
        "sc = SparkContext()"
      ],
      "execution_count": 0,
      "outputs": []
    },
    {
      "cell_type": "code",
      "metadata": {
        "id": "uXiqvKNxNYZx",
        "colab_type": "code",
        "colab": {}
      },
      "source": [
        "!git clone https://github.com/leonardoamorim/aulapython.git"
      ],
      "execution_count": 0,
      "outputs": []
    },
    {
      "cell_type": "code",
      "metadata": {
        "id": "y2F5QYlLNbUr",
        "colab_type": "code",
        "colab": {}
      },
      "source": [
        "! gunzip aulapython/NASA_access_log_Jul95.gz\n",
        "! gunzip aulapython/NASA_access_log_Aug95.gz"
      ],
      "execution_count": 0,
      "outputs": []
    },
    {
      "cell_type": "code",
      "metadata": {
        "id": "5VuF6PR8qzXa",
        "colab_type": "code",
        "colab": {}
      },
      "source": [
        "arquivo = sc.textFile(\"aulapython/NASA_access_log_Jul95\")#carregando arquivo "
      ],
      "execution_count": 0,
      "outputs": []
    },
    {
      "cell_type": "code",
      "metadata": {
        "id": "4RgCmqKfSEYe",
        "colab_type": "code",
        "colab": {}
      },
      "source": [
        "def count_hosts_distintos(dados):\n",
        "  return dados.map(lambda line: line.split(' ')[0]).distinct().count()"
      ],
      "execution_count": 0,
      "outputs": []
    },
    {
      "cell_type": "code",
      "metadata": {
        "id": "E2-Nbj60bGnZ",
        "colab_type": "code",
        "colab": {}
      },
      "source": [
        "hosts_dintintos_julho = count_hosts_distintos(arquivo)"
      ],
      "execution_count": 0,
      "outputs": []
    },
    {
      "cell_type": "code",
      "metadata": {
        "id": "7UoiVOPeEq7T",
        "colab_type": "code",
        "colab": {}
      },
      "source": [
        "# Funcao para verificar se em uma linha existe um codigo http igual a 404\n",
        "def codigo404(linha):\n",
        "    try:\n",
        "        codigohttp = linha.split(' ')[-2]\n",
        "        print(codigohttp)\n",
        "        if codigohttp == '404':\n",
        "            return True\n",
        "    except:\n",
        "        pass\n",
        "    return False"
      ],
      "execution_count": 0,
      "outputs": []
    },
    {
      "cell_type": "code",
      "metadata": {
        "id": "ipNjpfF6EsXT",
        "colab_type": "code",
        "colab": {}
      },
      "source": [
        "erros404_julho = arquivo.filter(codigo404)"
      ],
      "execution_count": 0,
      "outputs": []
    },
    {
      "cell_type": "code",
      "metadata": {
        "id": "wdA4CCYyEttK",
        "colab_type": "code",
        "colab": {}
      },
      "source": [
        "def top5_erro404(dados):\n",
        "  hosts = dados.map(lambda lin: lin.split()[6])\n",
        "  counts = hosts.map(lambda lin: (lin, 1)).reduceByKey(add)#somando o número de vezes chamado\n",
        "  top5 = counts.sortBy(lambda par: -par[1]).take(5) #ordenar decrescente pela quatidade e retornar os 5 primeiros\n",
        "  \n",
        "  retorno = ''\n",
        "  for host, erro in top5:\n",
        "    retorno += '\\n' + host + ': ' + str(erro)\n",
        "\n",
        "  return retorno;"
      ],
      "execution_count": 0,
      "outputs": []
    },
    {
      "cell_type": "code",
      "metadata": {
        "id": "_5iP6fW6Eu4r",
        "colab_type": "code",
        "colab": {}
      },
      "source": [
        "top5_erros404_julho = top5_erro404(erros404_julho)"
      ],
      "execution_count": 0,
      "outputs": []
    },
    {
      "cell_type": "code",
      "metadata": {
        "id": "VT6I9jhrEwcd",
        "colab_type": "code",
        "colab": {}
      },
      "source": [
        "def erros404_dia(dados):\n",
        "  dias = dados.map(lambda lin: lin.split('[')[1].split(':')[0])\n",
        "  counts = dias.map(lambda dia: (dia, 1)).reduceByKey(add)\n",
        "  return counts.sortBy(lambda data: data[0]).collect()"
      ],
      "execution_count": 0,
      "outputs": []
    },
    {
      "cell_type": "code",
      "metadata": {
        "id": "H8op80UmEyNe",
        "colab_type": "code",
        "colab": {}
      },
      "source": [
        "erro404_dia_julho = erros404_dia(erros404_julho)"
      ],
      "execution_count": 0,
      "outputs": []
    },
    {
      "cell_type": "code",
      "metadata": {
        "id": "iJsMEB8IEzoe",
        "colab_type": "code",
        "colab": {}
      },
      "source": [
        "def valor_bytes(linha):\n",
        "    try:\n",
        "        tamanho = int(linha.split()[-1])\n",
        "        return tamanho        \n",
        "    except:\n",
        "        return 0"
      ],
      "execution_count": 0,
      "outputs": []
    },
    {
      "cell_type": "code",
      "metadata": {
        "id": "FjK5w5feE03C",
        "colab_type": "code",
        "colab": {}
      },
      "source": [
        "total_bytes = arquivo.map(lambda lin: valor_bytes(lin)).reduce(lambda a, b: a + b)"
      ],
      "execution_count": 0,
      "outputs": []
    },
    {
      "cell_type": "code",
      "metadata": {
        "id": "kuce-uBIE2Gs",
        "colab_type": "code",
        "colab": {}
      },
      "source": [
        "print('Números de hosts distintos em Julho: ', hosts_dintintos_julho)"
      ],
      "execution_count": 0,
      "outputs": []
    },
    {
      "cell_type": "code",
      "metadata": {
        "id": "kjXWDyh7E3f5",
        "colab_type": "code",
        "colab": {}
      },
      "source": [
        "print('Total de erros 404 em Julho: ',erros404_julho.count())"
      ],
      "execution_count": 0,
      "outputs": []
    },
    {
      "cell_type": "code",
      "metadata": {
        "id": "VFtokTSsE4z1",
        "colab_type": "code",
        "outputId": "84e315a8-c685-4d9c-8ae5-432531f7795f",
        "colab": {
          "base_uri": "https://localhost:8080/",
          "height": 119
        }
      },
      "source": [
        "print('Top5 urls com erro 404 em julho: ', top5_erros404_julho)"
      ],
      "execution_count": 39,
      "outputs": [
        {
          "output_type": "stream",
          "text": [
            "Top5 urls com erro 404 em julho:  \n",
            "/pub/winvn/readme.txt: 667\n",
            "/pub/winvn/release.txt: 547\n",
            "/history/apollo/apollo-13.html: 286\n",
            "/history/apollo/a-001/a-001-patch-small.gif: 230\n",
            "/shuttle/resources/orbiters/atlantis.gif: 230\n"
          ],
          "name": "stdout"
        }
      ]
    },
    {
      "cell_type": "code",
      "metadata": {
        "id": "5npPWDqtE54B",
        "colab_type": "code",
        "colab": {}
      },
      "source": [
        "print('Erros 404 por dia em julho')\n",
        "for dia, total in erro404_dia_julho:\n",
        "  print(dia, total)"
      ],
      "execution_count": 0,
      "outputs": []
    },
    {
      "cell_type": "code",
      "metadata": {
        "id": "c2XiION2E7JF",
        "colab_type": "code",
        "colab": {}
      },
      "source": [
        "print('Total de bytes recebidos em Julho: ', total_bytes)"
      ],
      "execution_count": 0,
      "outputs": []
    },
    {
      "cell_type": "code",
      "metadata": {
        "id": "5Mj86Cv9E8QU",
        "colab_type": "code",
        "colab": {}
      },
      "source": [
        ""
      ],
      "execution_count": 0,
      "outputs": []
    }
  ]
}