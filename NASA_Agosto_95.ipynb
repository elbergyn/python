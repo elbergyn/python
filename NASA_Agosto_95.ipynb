{
  "nbformat": 4,
  "nbformat_minor": 0,
  "metadata": {
    "colab": {
      "name": "NASA Agosto 95.ipynb",
      "provenance": [],
      "collapsed_sections": [],
      "authorship_tag": "ABX9TyPgMAhkV44m25Qi+CeavULp",
      "include_colab_link": true
    },
    "kernelspec": {
      "name": "python3",
      "display_name": "Python 3"
    }
  },
  "cells": [
    {
      "cell_type": "markdown",
      "metadata": {
        "id": "view-in-github",
        "colab_type": "text"
      },
      "source": [
        "<a href=\"https://colab.research.google.com/github/elbergyn/python/blob/master/NASA_Agosto_95.ipynb\" target=\"_parent\"><img src=\"https://colab.research.google.com/assets/colab-badge.svg\" alt=\"Open In Colab\"/></a>"
      ]
    },
    {
      "cell_type": "code",
      "metadata": {
        "id": "6RHkCX-g3zwB",
        "colab_type": "code",
        "colab": {}
      },
      "source": [
        "!apt-get install openjdk-8-jdk-headless -qq > /dev/null\n",
        "import os\n",
        "os.environ[\"JAVA_HOME\"] = \"/usr/lib/jvm/java-8-openjdk-amd64\"\n",
        "!update-alternatives --set java /usr/lib/jvm/java-8-openjdk-amd64/jre/bin/java\n",
        "!java -version"
      ],
      "execution_count": 0,
      "outputs": []
    },
    {
      "cell_type": "code",
      "metadata": {
        "id": "VNlhzKkW2pbK",
        "colab_type": "code",
        "colab": {}
      },
      "source": [
        "! pip install pyspark"
      ],
      "execution_count": 0,
      "outputs": []
    },
    {
      "cell_type": "code",
      "metadata": {
        "id": "magc-xRV2r74",
        "colab_type": "code",
        "colab": {}
      },
      "source": [
        "from pyspark import SparkContext\n",
        "from operator import add"
      ],
      "execution_count": 0,
      "outputs": []
    },
    {
      "cell_type": "code",
      "metadata": {
        "id": "lH_Dc9u92shJ",
        "colab_type": "code",
        "colab": {}
      },
      "source": [
        "sc = SparkContext()"
      ],
      "execution_count": 0,
      "outputs": []
    },
    {
      "cell_type": "code",
      "metadata": {
        "id": "8ApDoy8-2uQA",
        "colab_type": "code",
        "colab": {}
      },
      "source": [
        "!git clone https://github.com/leonardoamorim/aulapython.git"
      ],
      "execution_count": 0,
      "outputs": []
    },
    {
      "cell_type": "code",
      "metadata": {
        "id": "a-upUEtl2wNg",
        "colab_type": "code",
        "colab": {}
      },
      "source": [
        "! gunzip aulapython/NASA_access_log_Jul95.gz\n",
        "! gunzip aulapython/NASA_access_log_Aug95.gz"
      ],
      "execution_count": 0,
      "outputs": []
    },
    {
      "cell_type": "code",
      "metadata": {
        "id": "oeo2eJ4p2xt6",
        "colab_type": "code",
        "colab": {}
      },
      "source": [
        "arquivo = sc.textFile(\"aulapython/NASA_access_log_Aug95\")#carregando arquivo "
      ],
      "execution_count": 0,
      "outputs": []
    },
    {
      "cell_type": "code",
      "metadata": {
        "id": "X-i3nvva22_o",
        "colab_type": "code",
        "colab": {}
      },
      "source": [
        "def count_hosts_distintos(dados):\n",
        "  return dados.map(lambda line: line.split(' ')[0]).distinct().count()"
      ],
      "execution_count": 0,
      "outputs": []
    },
    {
      "cell_type": "code",
      "metadata": {
        "id": "uA34b3K023c7",
        "colab_type": "code",
        "colab": {}
      },
      "source": [
        "hosts_dintintos_agosto = count_hosts_distintos(arquivo)"
      ],
      "execution_count": 0,
      "outputs": []
    },
    {
      "cell_type": "code",
      "metadata": {
        "id": "8QpBsXcY28Vp",
        "colab_type": "code",
        "colab": {}
      },
      "source": [
        "# Funcao para verificar se em uma linha existe um codigo http igual a 404\n",
        "def codigo404(linha):\n",
        "    try:\n",
        "        codigohttp = linha.split(' ')[-2]\n",
        "        if codigohttp == '404':\n",
        "            return True\n",
        "    except:\n",
        "        pass\n",
        "    return False"
      ],
      "execution_count": 0,
      "outputs": []
    },
    {
      "cell_type": "code",
      "metadata": {
        "id": "cLA0DWtf289Q",
        "colab_type": "code",
        "colab": {}
      },
      "source": [
        "erros404_agosto = arquivo.filter(codigo404)"
      ],
      "execution_count": 0,
      "outputs": []
    },
    {
      "cell_type": "code",
      "metadata": {
        "id": "8VE1Thnj2-bp",
        "colab_type": "code",
        "colab": {}
      },
      "source": [
        "def top5_erro404(dados):\n",
        "  hosts = dados.map(lambda lin: lin.split()[6])\n",
        "  counts = hosts.map(lambda lin: (lin, 1)).reduceByKey(add)#somando o número de vezes chamado\n",
        "  top5 = counts.sortBy(lambda par: -par[1]).take(5) #ordenar decrescente pela quatidade e retornar os 5 primeiros\n",
        "  \n",
        "  retorno = ''\n",
        "  for host, erro in top5:\n",
        "    retorno += '\\n' + host + ': ' + str(erro)\n",
        "\n",
        "  return retorno;"
      ],
      "execution_count": 0,
      "outputs": []
    },
    {
      "cell_type": "code",
      "metadata": {
        "id": "B1ySb-HX3Ahf",
        "colab_type": "code",
        "colab": {}
      },
      "source": [
        "top5_erros404_agosto = top5_erro404(erros404_agosto)"
      ],
      "execution_count": 0,
      "outputs": []
    },
    {
      "cell_type": "code",
      "metadata": {
        "id": "M1pvzYoD3Bux",
        "colab_type": "code",
        "colab": {}
      },
      "source": [
        "def erros404_dia(dados):\n",
        "  dias = dados.map(lambda lin: lin.split('[')[1].split(':')[0])\n",
        "  counts = dias.map(lambda dia: (dia, 1)).reduceByKey(add)\n",
        "  return counts.sortBy(lambda data: data[0]).collect()"
      ],
      "execution_count": 0,
      "outputs": []
    },
    {
      "cell_type": "code",
      "metadata": {
        "id": "ijKXGxwS3DSw",
        "colab_type": "code",
        "colab": {}
      },
      "source": [
        "erro404_dia_agosto = erros404_dia(erros404_agosto)"
      ],
      "execution_count": 0,
      "outputs": []
    },
    {
      "cell_type": "code",
      "metadata": {
        "id": "Eqk23BcG3EkH",
        "colab_type": "code",
        "colab": {}
      },
      "source": [
        "def valor_bytes(linha):\n",
        "    try:\n",
        "        tamanho = int(linha.split()[-1])\n",
        "        return tamanho        \n",
        "    except:\n",
        "        return 0"
      ],
      "execution_count": 0,
      "outputs": []
    },
    {
      "cell_type": "code",
      "metadata": {
        "id": "-ahe7ltS3FSJ",
        "colab_type": "code",
        "colab": {}
      },
      "source": [
        "total_bytes = arquivo.map(lambda lin: valor_bytes(lin)).reduce(lambda a, b: a + b)"
      ],
      "execution_count": 0,
      "outputs": []
    },
    {
      "cell_type": "code",
      "metadata": {
        "id": "4ouGmsq33Ht2",
        "colab_type": "code",
        "colab": {}
      },
      "source": [
        "print('Números de hosts distintos em Agosto: ', hosts_dintintos_agosto)"
      ],
      "execution_count": 0,
      "outputs": []
    },
    {
      "cell_type": "code",
      "metadata": {
        "id": "PObl0efI3IRi",
        "colab_type": "code",
        "colab": {}
      },
      "source": [
        "print('Total de erros 404 em Agosto: ',erros404_agosto.count())"
      ],
      "execution_count": 0,
      "outputs": []
    },
    {
      "cell_type": "code",
      "metadata": {
        "id": "5z0Ceofx3KvP",
        "colab_type": "code",
        "colab": {}
      },
      "source": [
        "print('Top5 urls com erro 404 em agosto: ', top5_erros404_agosto)"
      ],
      "execution_count": 0,
      "outputs": []
    },
    {
      "cell_type": "code",
      "metadata": {
        "id": "2JwKDk9k3M1F",
        "colab_type": "code",
        "colab": {}
      },
      "source": [
        "print('Erros 404 por dia em agosto')\n",
        "for dia, total in erro404_dia_agosto:\n",
        "  print(dia, total)"
      ],
      "execution_count": 0,
      "outputs": []
    },
    {
      "cell_type": "code",
      "metadata": {
        "id": "0uFxcLHp3OT2",
        "colab_type": "code",
        "colab": {}
      },
      "source": [
        "print('Total de bytes recebidos em Agosto: ', total_bytes)"
      ],
      "execution_count": 0,
      "outputs": []
    }
  ]
}